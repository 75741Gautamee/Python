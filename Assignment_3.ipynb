{
 "cells": [
  {
   "cell_type": "raw",
   "id": "fce5d34c",
   "metadata": {},
   "source": [
    "Write programs using lists in python\n",
    "1. Reverse a given list in Python\n",
    "aList = [100, 200, 300, 400, 500]\n",
    "output:\n",
    "[500, 400, 300, 200, 100]"
   ]
  },
  {
   "cell_type": "code",
   "execution_count": 1,
   "id": "2f29778a",
   "metadata": {},
   "outputs": [],
   "source": [
    "aList = [100, 200, 300, 400, 500]"
   ]
  },
  {
   "cell_type": "code",
   "execution_count": 2,
   "id": "a3c709a3",
   "metadata": {},
   "outputs": [
    {
     "data": {
      "text/plain": [
       "[500, 400, 300, 200, 100]"
      ]
     },
     "execution_count": 2,
     "metadata": {},
     "output_type": "execute_result"
    }
   ],
   "source": [
    "aList[::-1]"
   ]
  },
  {
   "cell_type": "raw",
   "id": "46d39476",
   "metadata": {},
   "source": [
    "2. take a list 'l1' of even nos between 150 to 250. Print its length.\n",
    "Then create another list 'l2' using 'l1', containing only nos divisible by 4 from 'l1'."
   ]
  },
  {
   "cell_type": "code",
   "execution_count": 21,
   "id": "6535d43b",
   "metadata": {},
   "outputs": [
    {
     "name": "stdout",
     "output_type": "stream",
     "text": [
      "51\n",
      "[150, 152, 154, 156, 158, 160, 162, 164, 166, 168, 170, 172, 174, 176, 178, 180, 182, 184, 186, 188, 190, 192, 194, 196, 198, 200, 202, 204, 206, 208, 210, 212, 214, 216, 218, 220, 222, 224, 226, 228, 230, 232, 234, 236, 238, 240, 242, 244, 246, 248, 250]\n"
     ]
    }
   ],
   "source": [
    "l1 = []\n",
    "for i in range(150,251,2):\n",
    "    l1.append(i)\n",
    "print(len(l1))\n",
    "print(l1)"
   ]
  },
  {
   "cell_type": "code",
   "execution_count": 22,
   "id": "17169562",
   "metadata": {},
   "outputs": [
    {
     "name": "stdout",
     "output_type": "stream",
     "text": [
      "[152, 156, 160, 164, 168, 172, 176, 180, 184, 188, 192, 196, 200, 204, 208, 212, 216, 220, 224, 228, 232, 236, 240, 244, 248]\n"
     ]
    }
   ],
   "source": [
    "l2 = [x for x in l1 if x%4 == 0]\n",
    "print(l2)"
   ]
  },
  {
   "cell_type": "raw",
   "id": "b34534b5",
   "metadata": {},
   "source": [
    "3. Given a Python list of numbers. Turn every item of a list into its square root\n",
    "aList = [1, 4, 9, 16, 25, 36, 49] \n",
    "output:\n",
    "[1, 2, 3, 4, 5, 6, 7]"
   ]
  },
  {
   "cell_type": "code",
   "execution_count": 15,
   "id": "51f2350b",
   "metadata": {},
   "outputs": [],
   "source": [
    "aList = [1, 4, 9, 16, 25, 36, 49] "
   ]
  },
  {
   "cell_type": "code",
   "execution_count": 19,
   "id": "43d64fbe",
   "metadata": {},
   "outputs": [
    {
     "data": {
      "text/plain": [
       "[1.0, 2.0, 3.0, 4.0, 5.0, 6.0, 7.0]"
      ]
     },
     "execution_count": 19,
     "metadata": {},
     "output_type": "execute_result"
    }
   ],
   "source": [
    "import math\n",
    "new_list = [math.sqrt(x) for x in aList]\n",
    "new_list"
   ]
  },
  {
   "cell_type": "raw",
   "id": "a4c76199",
   "metadata": {},
   "source": [
    "4. Print two lists in the following order\n",
    "list1 = [5, 6,7]\n",
    "list2 = [0, 1]\n",
    "output:\n",
    "50,51,60,61,70,71"
   ]
  },
  {
   "cell_type": "code",
   "execution_count": 32,
   "id": "e9d53932",
   "metadata": {},
   "outputs": [],
   "source": [
    "list1 = [5, 6,7]\n",
    "list2 = [0, 1]"
   ]
  },
  {
   "cell_type": "code",
   "execution_count": 39,
   "id": "ae87aaa3",
   "metadata": {},
   "outputs": [
    {
     "name": "stdout",
     "output_type": "stream",
     "text": [
      "50\n",
      "51\n",
      "60\n",
      "61\n",
      "70\n",
      "71\n"
     ]
    }
   ],
   "source": [
    "for i in list1:\n",
    "    for j in list2:\n",
    "        print(i,j, sep='')"
   ]
  },
  {
   "cell_type": "raw",
   "id": "47f8d577",
   "metadata": {},
   "source": [
    "5. Given a two Python list. Iterate both lists simultaneously such that list1 should display item in original order and list2 in reverse order. It should work for any two lists.\n",
    "list1 = [10, 20, 30, 40]\n",
    "list2 = [100, 200, 300, 400]\n",
    "output:\n",
    "10 400\n",
    "20 300\n",
    "30 200\n",
    "40 100"
   ]
  },
  {
   "cell_type": "code",
   "execution_count": 40,
   "id": "5f94a66f",
   "metadata": {},
   "outputs": [],
   "source": [
    "list1 = [10, 20, 30, 40]\n",
    "list2 = [100, 200, 300, 400]"
   ]
  },
  {
   "cell_type": "code",
   "execution_count": 41,
   "id": "3d660ab1",
   "metadata": {},
   "outputs": [
    {
     "name": "stdout",
     "output_type": "stream",
     "text": [
      "10 400\n",
      "20 300\n",
      "30 200\n",
      "40 100\n"
     ]
    }
   ],
   "source": [
    "for i,j in zip(list1, list2[::-1]):\n",
    "    print(i,j)"
   ]
  },
  {
   "cell_type": "raw",
   "id": "3ddab533",
   "metadata": {},
   "source": [
    "6. Remove empty strings from the list of strings\n",
    "list1 = [\"Ashish\", \"\", \"Atharva\", \"Amit\", \"\", \"Revati\"]\n",
    "output:\n",
    "[\"Ashish\", \"Atharva\", \"Amit\", \"Revati\"]"
   ]
  },
  {
   "cell_type": "code",
   "execution_count": 46,
   "id": "a011e625",
   "metadata": {},
   "outputs": [],
   "source": [
    "list1 = [\"Ashish\", \"\", \"Atharva\", \"Amit\", \"\", \"Revati\"]"
   ]
  },
  {
   "cell_type": "code",
   "execution_count": 48,
   "id": "c3466c06",
   "metadata": {},
   "outputs": [
    {
     "data": {
      "text/plain": [
       "['Ashish', 'Atharva', 'Amit', 'Revati']"
      ]
     },
     "execution_count": 48,
     "metadata": {},
     "output_type": "execute_result"
    }
   ],
   "source": [
    "for i in list1:\n",
    "    if i == \"\":\n",
    "        list1.remove(i)\n",
    "list1"
   ]
  },
  {
   "cell_type": "raw",
   "id": "ae75fc9d",
   "metadata": {},
   "source": [
    "7. Add item 7000 after 6000 in the following Python List\n",
    "list1 = [10, 20, [300, 400, [5000, 6000], 500], 30, 40]\n",
    "output:\n",
    "[10, 20, [300, 400, [5000, 6000, 7000], 500], 30, 40]"
   ]
  },
  {
   "cell_type": "code",
   "execution_count": 49,
   "id": "1b5ec444",
   "metadata": {},
   "outputs": [],
   "source": [
    "list1 = [10, 20, [300, 400, [5000, 6000], 500], 30, 40]"
   ]
  },
  {
   "cell_type": "code",
   "execution_count": 51,
   "id": "2b35486f",
   "metadata": {},
   "outputs": [
    {
     "data": {
      "text/plain": [
       "[10, 20, [300, 400, [5000, 6000, 7000], 500], 30, 40]"
      ]
     },
     "execution_count": 51,
     "metadata": {},
     "output_type": "execute_result"
    }
   ],
   "source": [
    "list1[2][2].append(7000)\n",
    "list1"
   ]
  },
  {
   "cell_type": "raw",
   "id": "9438e2a2",
   "metadata": {},
   "source": [
    "8. Given a nested list extend it by adding the sub list [\"h\", \"i\", \"j\"] in such a way that it will look like the following list\n",
    "\n",
    "list1 = [\"a\", \"b\", [\"c\", [\"d\", \"e\", [\"f\", \"g\"], \"k\"], \"l\"], \"m\", \"n\"]\n",
    "Sub List to be added = [\"h\", \"i\", \"j\"]\n",
    "output:\n",
    "['a', 'b', ['c', ['d', 'e', ['f', 'g', 'h', 'i', 'j'], 'k'], 'l'], 'm', 'n']"
   ]
  },
  {
   "cell_type": "code",
   "execution_count": 55,
   "id": "b9f87dfb",
   "metadata": {},
   "outputs": [],
   "source": [
    "list1 = [\"a\", \"b\", [\"c\", [\"d\", \"e\", [\"f\", \"g\"], \"k\"], \"l\"], \"m\", \"n\"]\n",
    "sub_list = [\"h\", \"i\", \"j\"]"
   ]
  },
  {
   "cell_type": "code",
   "execution_count": 56,
   "id": "6d6724ee",
   "metadata": {},
   "outputs": [
    {
     "data": {
      "text/plain": [
       "['a', 'b', ['c', ['d', 'e', ['f', 'g', 'h', 'i', 'j'], 'k'], 'l'], 'm', 'n']"
      ]
     },
     "execution_count": 56,
     "metadata": {},
     "output_type": "execute_result"
    }
   ],
   "source": [
    "list1[2][1][2].extend(sub_list)\n",
    "list1"
   ]
  },
  {
   "cell_type": "raw",
   "id": "c69e8083",
   "metadata": {},
   "source": [
    "9. Given a Python list, find value 20 in the list, and if it is present, replace it with 200. Only update the first occurrence of a value\n",
    "list1 = [5, 10, 15, 20, 25, 50, 20]\n",
    "output:\n",
    "list1 = [5, 10, 15, 200, 25, 50, 20]"
   ]
  },
  {
   "cell_type": "code",
   "execution_count": 58,
   "id": "40a30904",
   "metadata": {},
   "outputs": [
    {
     "data": {
      "text/plain": [
       "[5, 10, 15, 200, 25, 50, 20]"
      ]
     },
     "execution_count": 58,
     "metadata": {},
     "output_type": "execute_result"
    }
   ],
   "source": [
    "list1 = [5, 10, 15, 20, 25, 50, 20]\n",
    "index = list1.index(20)\n",
    "list1[index] = 200\n",
    "list1"
   ]
  },
  {
   "cell_type": "raw",
   "id": "cf102adf",
   "metadata": {},
   "source": [
    "10. Given a Python list, remove all occurrence of 20 from the list\n",
    "list1 = [5, 20, 15, 20, 25, 50, 20]\n",
    "output:\n",
    "[5, 15, 25, 50]"
   ]
  },
  {
   "cell_type": "code",
   "execution_count": 66,
   "id": "9b13e6af",
   "metadata": {},
   "outputs": [],
   "source": [
    "list1 = [5, 20, 15, 20, 25, 50, 20]"
   ]
  },
  {
   "cell_type": "code",
   "execution_count": 67,
   "id": "9c54797b",
   "metadata": {},
   "outputs": [
    {
     "data": {
      "text/plain": [
       "[5, 15, 25, 50]"
      ]
     },
     "execution_count": 67,
     "metadata": {},
     "output_type": "execute_result"
    }
   ],
   "source": [
    "for i in list1:\n",
    "    if i == 20:\n",
    "        list1.remove(20)\n",
    "list1"
   ]
  },
  {
   "cell_type": "raw",
   "id": "b4f7f312",
   "metadata": {},
   "source": [
    "11. Take a number as input from user. \n",
    "Print maximum and minimum integer which can be generated using all the digits in the input number\n",
    "Ex. Input 3421   : o/p max: 4321, min 1234\n",
    "Input 7789    : o/p max: 9776   min 6779"
   ]
  },
  {
   "cell_type": "code",
   "execution_count": 84,
   "id": "bd5668d2",
   "metadata": {},
   "outputs": [
    {
     "name": "stdout",
     "output_type": "stream",
     "text": [
      "Enter A Number: 3421\n",
      "Input: 3421\n",
      "Min: 1234\n",
      "Max: 4321\n"
     ]
    }
   ],
   "source": [
    "num = input(\"Enter A Number: \")\n",
    "print(\"Input: \"+num)\n",
    "list1 = list(num)\n",
    "list1.sort()\n",
    "min = ''.join(list1)\n",
    "print(\"Min: \"+min)\n",
    "list1.sort(reverse = True)\n",
    "max = ''.join(list1)\n",
    "print(\"Max: \"+max)"
   ]
  },
  {
   "cell_type": "raw",
   "id": "009027aa",
   "metadata": {},
   "source": [
    "Q. What will be output of following and explain why?\n",
    "a. \n",
    "l1 = [ 0 , 1]\n",
    "x= l1[0]\n",
    "x, l1[x] = 1, 300\n",
    "print(l1)"
   ]
  },
  {
   "cell_type": "code",
   "execution_count": 92,
   "id": "542aa1dd",
   "metadata": {},
   "outputs": [],
   "source": [
    "l1 = [ 0 , 1]"
   ]
  },
  {
   "cell_type": "code",
   "execution_count": 93,
   "id": "0c62b298",
   "metadata": {},
   "outputs": [
    {
     "data": {
      "text/plain": [
       "0"
      ]
     },
     "execution_count": 93,
     "metadata": {},
     "output_type": "execute_result"
    }
   ],
   "source": [
    "l1[0]"
   ]
  },
  {
   "cell_type": "code",
   "execution_count": 94,
   "id": "87203df2",
   "metadata": {},
   "outputs": [
    {
     "data": {
      "text/plain": [
       "0"
      ]
     },
     "execution_count": 94,
     "metadata": {},
     "output_type": "execute_result"
    }
   ],
   "source": [
    "x = l1[0]\n",
    "x"
   ]
  },
  {
   "cell_type": "code",
   "execution_count": 96,
   "id": "bab9e5ef",
   "metadata": {},
   "outputs": [
    {
     "name": "stdout",
     "output_type": "stream",
     "text": [
      "1\n"
     ]
    },
    {
     "data": {
      "text/plain": [
       "[0, 300]"
      ]
     },
     "execution_count": 96,
     "metadata": {},
     "output_type": "execute_result"
    }
   ],
   "source": [
    "x, l1[x] = 1, 300\n",
    "print(x)\n",
    "l1"
   ]
  },
  {
   "cell_type": "raw",
   "id": "2a296737",
   "metadata": {},
   "source": [
    "b.\n",
    "comp = [1, 2, ('aa', 'ab')]   < [1, 2, ('abc', 'a'), 4]\n",
    "print(comp)"
   ]
  },
  {
   "cell_type": "code",
   "execution_count": 97,
   "id": "f5d2840a",
   "metadata": {},
   "outputs": [
    {
     "name": "stdout",
     "output_type": "stream",
     "text": [
      "True\n"
     ]
    }
   ],
   "source": [
    "comp = [1, 2, ('aa', 'ab')]   < [1, 2, ('abc', 'a'), 4]\n",
    "print(comp)"
   ]
  },
  {
   "cell_type": "code",
   "execution_count": 105,
   "id": "ca6615c0",
   "metadata": {},
   "outputs": [
    {
     "name": "stdout",
     "output_type": "stream",
     "text": [
      "True\n"
     ]
    }
   ],
   "source": [
    "l1 = ['aab']\n",
    "l2 = ['ab']\n",
    "print(l1 < l2)"
   ]
  }
 ],
 "metadata": {
  "kernelspec": {
   "display_name": "Python 3 (ipykernel)",
   "language": "python",
   "name": "python3"
  },
  "language_info": {
   "codemirror_mode": {
    "name": "ipython",
    "version": 3
   },
   "file_extension": ".py",
   "mimetype": "text/x-python",
   "name": "python",
   "nbconvert_exporter": "python",
   "pygments_lexer": "ipython3",
   "version": "3.11.4"
  }
 },
 "nbformat": 4,
 "nbformat_minor": 5
}
