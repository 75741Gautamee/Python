{
 "cells": [
  {
   "cell_type": "raw",
   "id": "3ddb7fba",
   "metadata": {},
   "source": [
    "Q1. What will be output of following\n",
    "\n",
    "a. type(0)\n",
    "b. type(0.0)\n",
    "c. type('A')\n",
    "d. type(print) -> remember print is function\n",
    "e. type(3+3j)\n",
    "f. type(True)"
   ]
  },
  {
   "cell_type": "code",
   "execution_count": 1,
   "id": "36188938",
   "metadata": {},
   "outputs": [
    {
     "data": {
      "text/plain": [
       "int"
      ]
     },
     "execution_count": 1,
     "metadata": {},
     "output_type": "execute_result"
    }
   ],
   "source": [
    "type(0)"
   ]
  },
  {
   "cell_type": "code",
   "execution_count": 2,
   "id": "595fda1b",
   "metadata": {},
   "outputs": [
    {
     "data": {
      "text/plain": [
       "float"
      ]
     },
     "execution_count": 2,
     "metadata": {},
     "output_type": "execute_result"
    }
   ],
   "source": [
    "type(0.0)"
   ]
  },
  {
   "cell_type": "code",
   "execution_count": 3,
   "id": "e708f0c5",
   "metadata": {},
   "outputs": [
    {
     "data": {
      "text/plain": [
       "str"
      ]
     },
     "execution_count": 3,
     "metadata": {},
     "output_type": "execute_result"
    }
   ],
   "source": [
    "type('A')"
   ]
  },
  {
   "cell_type": "code",
   "execution_count": 4,
   "id": "abe8ba71",
   "metadata": {},
   "outputs": [
    {
     "data": {
      "text/plain": [
       "builtin_function_or_method"
      ]
     },
     "execution_count": 4,
     "metadata": {},
     "output_type": "execute_result"
    }
   ],
   "source": [
    "type(print)"
   ]
  },
  {
   "cell_type": "code",
   "execution_count": 5,
   "id": "223194d9",
   "metadata": {},
   "outputs": [
    {
     "data": {
      "text/plain": [
       "complex"
      ]
     },
     "execution_count": 5,
     "metadata": {},
     "output_type": "execute_result"
    }
   ],
   "source": [
    "type(3+3j)"
   ]
  },
  {
   "cell_type": "code",
   "execution_count": 6,
   "id": "c83eab63",
   "metadata": {},
   "outputs": [
    {
     "data": {
      "text/plain": [
       "bool"
      ]
     },
     "execution_count": 6,
     "metadata": {},
     "output_type": "execute_result"
    }
   ],
   "source": [
    "type(True)"
   ]
  },
  {
   "cell_type": "raw",
   "id": "1812b799",
   "metadata": {},
   "source": [
    "Q2. What will be output of following\n",
    "\n",
    "a. isinstance(10,int)\n",
    "b. isinstance(10,float)\n",
    "c. isinstance(1,bool)\n",
    "d. isinstance(0,bool)\n",
    "e. isinstance(78.8,int)\n",
    "f. isinstance(78.8,float)\n",
    "g. isinstance(78.8,complex)\n",
    "h. isinstance(True,bool)"
   ]
  },
  {
   "cell_type": "code",
   "execution_count": 7,
   "id": "cc042e01",
   "metadata": {},
   "outputs": [
    {
     "data": {
      "text/plain": [
       "True"
      ]
     },
     "execution_count": 7,
     "metadata": {},
     "output_type": "execute_result"
    }
   ],
   "source": [
    "isinstance(10,int)"
   ]
  },
  {
   "cell_type": "code",
   "execution_count": 8,
   "id": "7ef3ead1",
   "metadata": {},
   "outputs": [
    {
     "data": {
      "text/plain": [
       "False"
      ]
     },
     "execution_count": 8,
     "metadata": {},
     "output_type": "execute_result"
    }
   ],
   "source": [
    "isinstance(10,float)"
   ]
  },
  {
   "cell_type": "code",
   "execution_count": 9,
   "id": "6d9638a8",
   "metadata": {},
   "outputs": [
    {
     "data": {
      "text/plain": [
       "False"
      ]
     },
     "execution_count": 9,
     "metadata": {},
     "output_type": "execute_result"
    }
   ],
   "source": [
    "isinstance(1,bool)"
   ]
  },
  {
   "cell_type": "code",
   "execution_count": 10,
   "id": "02b72324",
   "metadata": {},
   "outputs": [
    {
     "data": {
      "text/plain": [
       "False"
      ]
     },
     "execution_count": 10,
     "metadata": {},
     "output_type": "execute_result"
    }
   ],
   "source": [
    "isinstance(0,bool)"
   ]
  },
  {
   "cell_type": "code",
   "execution_count": 11,
   "id": "354a9d66",
   "metadata": {},
   "outputs": [
    {
     "data": {
      "text/plain": [
       "False"
      ]
     },
     "execution_count": 11,
     "metadata": {},
     "output_type": "execute_result"
    }
   ],
   "source": [
    "isinstance(78.8,int)"
   ]
  },
  {
   "cell_type": "code",
   "execution_count": 12,
   "id": "451dc4e1",
   "metadata": {},
   "outputs": [
    {
     "data": {
      "text/plain": [
       "True"
      ]
     },
     "execution_count": 12,
     "metadata": {},
     "output_type": "execute_result"
    }
   ],
   "source": [
    "isinstance(78.8,float)"
   ]
  },
  {
   "cell_type": "code",
   "execution_count": 13,
   "id": "7d51fdae",
   "metadata": {},
   "outputs": [
    {
     "data": {
      "text/plain": [
       "False"
      ]
     },
     "execution_count": 13,
     "metadata": {},
     "output_type": "execute_result"
    }
   ],
   "source": [
    "isinstance(78.8,complex)"
   ]
  },
  {
   "cell_type": "code",
   "execution_count": 14,
   "id": "52de32fe",
   "metadata": {},
   "outputs": [
    {
     "data": {
      "text/plain": [
       "True"
      ]
     },
     "execution_count": 14,
     "metadata": {},
     "output_type": "execute_result"
    }
   ],
   "source": [
    "isinstance(True,bool)"
   ]
  },
  {
   "cell_type": "raw",
   "id": "13f70a32",
   "metadata": {},
   "source": [
    "Q3. WAP to take following from user, \n",
    "roll no : should be int : store in a variable\n",
    "percentage marks : should be float: store in a variable\n",
    "Any complex number : should be a complex number : store in a variable\n",
    "name of student: should be a string : store in a variable\n",
    "\n",
    "Print values of all four variables"
   ]
  },
  {
   "cell_type": "code",
   "execution_count": 19,
   "id": "22d256ed",
   "metadata": {},
   "outputs": [
    {
     "name": "stdout",
     "output_type": "stream",
     "text": [
      "Enter Your Roll No.: 19\n",
      "Enter Your Percentage: 87.40\n",
      "Enter A Complex Number i: 4\n",
      "Enter A Complex Number j: 9\n",
      "Enter Your Name: Gautamee Jakinkar\n",
      "Roll No.:\n",
      "19\n",
      "Percentage:\n",
      "87.4\n",
      "Complex Number:\n",
      "(4+9j)\n",
      "Student Name:\n",
      "Gautamee Jakinkar\n"
     ]
    }
   ],
   "source": [
    "roll_no = int(input(\"Enter Your Roll No.: \"))\n",
    "percentage_marks = float(input(\"Enter Your Percentage: \"))\n",
    "complex_number = complex(int(input(\"Enter A Complex Number i: \")), int(input(\"Enter A Complex Number j: \")))\n",
    "student_name = input(\"Enter Your Name: \")\n",
    "print(\"Roll No.:\", roll_no, \"Percentage:\", percentage_marks, \"Complex Number:\", complex_number, \"Student Name:\", student_name, sep = \"\\n\")"
   ]
  },
  {
   "cell_type": "code",
   "execution_count": null,
   "id": "cf741c5e",
   "metadata": {},
   "outputs": [],
   "source": []
  }
 ],
 "metadata": {
  "kernelspec": {
   "display_name": "Python 3 (ipykernel)",
   "language": "python",
   "name": "python3"
  },
  "language_info": {
   "codemirror_mode": {
    "name": "ipython",
    "version": 3
   },
   "file_extension": ".py",
   "mimetype": "text/x-python",
   "name": "python",
   "nbconvert_exporter": "python",
   "pygments_lexer": "ipython3",
   "version": "3.11.4"
  }
 },
 "nbformat": 4,
 "nbformat_minor": 5
}
