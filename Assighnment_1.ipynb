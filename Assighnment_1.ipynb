{
 "cells": [
  {
   "cell_type": "raw",
   "id": "25fae90f",
   "metadata": {},
   "source": [
    "Q. What will be output of printing following calculations\n",
    "a. 1.5e200 *2.0e210\n",
    "b. 3.4e-320 / 1e100"
   ]
  },
  {
   "cell_type": "code",
   "execution_count": 2,
   "id": "0498f15a",
   "metadata": {},
   "outputs": [
    {
     "data": {
      "text/plain": [
       "inf"
      ]
     },
     "execution_count": 2,
     "metadata": {},
     "output_type": "execute_result"
    }
   ],
   "source": [
    "1.5e200 *2.0e210"
   ]
  },
  {
   "cell_type": "code",
   "execution_count": 4,
   "id": "022eca8c",
   "metadata": {},
   "outputs": [
    {
     "data": {
      "text/plain": [
       "0.0"
      ]
     },
     "execution_count": 4,
     "metadata": {},
     "output_type": "execute_result"
    }
   ],
   "source": [
    "3.4e-320 / 1e100"
   ]
  },
  {
   "cell_type": "raw",
   "id": "2ed48ba3",
   "metadata": {},
   "source": [
    "Q. What is output of printing following\n",
    "a. 1/3\n",
    "b. format(1/3, '.3f')\n",
    "c. format(1/3, '.1f')\n",
    "d. 6*1/3\n",
    "e. 1/3 + 1/3 + 1/3 + 1/3 + 1/3 + 1/3"
   ]
  },
  {
   "cell_type": "code",
   "execution_count": 5,
   "id": "beb39d1d",
   "metadata": {},
   "outputs": [
    {
     "data": {
      "text/plain": [
       "0.3333333333333333"
      ]
     },
     "execution_count": 5,
     "metadata": {},
     "output_type": "execute_result"
    }
   ],
   "source": [
    "1/3"
   ]
  },
  {
   "cell_type": "code",
   "execution_count": 6,
   "id": "cdffec82",
   "metadata": {},
   "outputs": [
    {
     "data": {
      "text/plain": [
       "'0.333'"
      ]
     },
     "execution_count": 6,
     "metadata": {},
     "output_type": "execute_result"
    }
   ],
   "source": [
    "format(1/3, '.3f')"
   ]
  },
  {
   "cell_type": "code",
   "execution_count": 7,
   "id": "110f2a88",
   "metadata": {},
   "outputs": [
    {
     "data": {
      "text/plain": [
       "'0.3'"
      ]
     },
     "execution_count": 7,
     "metadata": {},
     "output_type": "execute_result"
    }
   ],
   "source": [
    "format(1/3, '.1f')"
   ]
  },
  {
   "cell_type": "code",
   "execution_count": 8,
   "id": "9fed00c4",
   "metadata": {},
   "outputs": [
    {
     "data": {
      "text/plain": [
       "2.0"
      ]
     },
     "execution_count": 8,
     "metadata": {},
     "output_type": "execute_result"
    }
   ],
   "source": [
    "6*1/3"
   ]
  },
  {
   "cell_type": "code",
   "execution_count": 9,
   "id": "12a644b8",
   "metadata": {},
   "outputs": [
    {
     "data": {
      "text/plain": [
       "1.9999999999999998"
      ]
     },
     "execution_count": 9,
     "metadata": {},
     "output_type": "execute_result"
    }
   ],
   "source": [
    "1/3 + 1/3 + 1/3 + 1/3 + 1/3 + 1/3"
   ]
  },
  {
   "cell_type": "raw",
   "id": "ae2184cb",
   "metadata": {},
   "source": [
    "Q. Study how format function works to print floating point values and strings . Then solve following using format function\n",
    "a. print only first 5 decimal values of 22/7 (hint: see b of Q3)\n",
    "b. print Hello string with 5 spaces on right side, 'Hello     ' ( hint: use <)\n",
    "c. print Hello string with 5 spaces on left side, '     Hello' ( hint: use <) \n",
    "d. print Hello string with 5 '#' on left side and 5 '#' on right side, '     Hello     ' ( hint: use ^ and # as fill value)\n",
    "e. print 10 spaces (hint: give 10 as argument)"
   ]
  },
  {
   "cell_type": "code",
   "execution_count": 10,
   "id": "cf43b9bd",
   "metadata": {},
   "outputs": [
    {
     "data": {
      "text/plain": [
       "'3.14286'"
      ]
     },
     "execution_count": 10,
     "metadata": {},
     "output_type": "execute_result"
    }
   ],
   "source": [
    "format(22/7, '.5f')"
   ]
  },
  {
   "cell_type": "code",
   "execution_count": 12,
   "id": "621d3b82",
   "metadata": {},
   "outputs": [
    {
     "data": {
      "text/plain": [
       "'Hello     '"
      ]
     },
     "execution_count": 12,
     "metadata": {},
     "output_type": "execute_result"
    }
   ],
   "source": [
    "format(\"Hello\", '<10')"
   ]
  },
  {
   "cell_type": "code",
   "execution_count": 13,
   "id": "ab30081c",
   "metadata": {},
   "outputs": [
    {
     "data": {
      "text/plain": [
       "'     Hello'"
      ]
     },
     "execution_count": 13,
     "metadata": {},
     "output_type": "execute_result"
    }
   ],
   "source": [
    "format(\"Hello\", '>10')"
   ]
  },
  {
   "cell_type": "code",
   "execution_count": 14,
   "id": "236307ad",
   "metadata": {},
   "outputs": [
    {
     "data": {
      "text/plain": [
       "'#####Hello#####'"
      ]
     },
     "execution_count": 14,
     "metadata": {},
     "output_type": "execute_result"
    }
   ],
   "source": [
    "format('Hello', '#^15')"
   ]
  },
  {
   "cell_type": "code",
   "execution_count": 15,
   "id": "5406d1c8",
   "metadata": {},
   "outputs": [
    {
     "data": {
      "text/plain": [
       "'          '"
      ]
     },
     "execution_count": 15,
     "metadata": {},
     "output_type": "execute_result"
    }
   ],
   "source": [
    "format(' ','10')"
   ]
  },
  {
   "cell_type": "raw",
   "id": "6804b447",
   "metadata": {},
   "source": [
    "Q. We can use ord() to print ASCII value of single character and chr() to convert given ASCII value to character. \n",
    "a. find ASCII of characters'a' , 'A' , 'z' , 'Z' using ord() one by one\n",
    "b. find ASCII of characters '0', '9', ' ', \"\\n\" , \"\\t\" using ord() one by one\n",
    "c. Find characters for ASCII values 35, 67, 50, 99"
   ]
  },
  {
   "cell_type": "code",
   "execution_count": 16,
   "id": "759ebb88",
   "metadata": {},
   "outputs": [
    {
     "data": {
      "text/plain": [
       "97"
      ]
     },
     "execution_count": 16,
     "metadata": {},
     "output_type": "execute_result"
    }
   ],
   "source": [
    "ord('a')"
   ]
  },
  {
   "cell_type": "code",
   "execution_count": 17,
   "id": "51380ce6",
   "metadata": {},
   "outputs": [
    {
     "data": {
      "text/plain": [
       "65"
      ]
     },
     "execution_count": 17,
     "metadata": {},
     "output_type": "execute_result"
    }
   ],
   "source": [
    "ord('A')"
   ]
  },
  {
   "cell_type": "code",
   "execution_count": 18,
   "id": "c8f016c5",
   "metadata": {},
   "outputs": [
    {
     "data": {
      "text/plain": [
       "122"
      ]
     },
     "execution_count": 18,
     "metadata": {},
     "output_type": "execute_result"
    }
   ],
   "source": [
    "ord('z')"
   ]
  },
  {
   "cell_type": "code",
   "execution_count": 19,
   "id": "0a4c393c",
   "metadata": {},
   "outputs": [
    {
     "data": {
      "text/plain": [
       "90"
      ]
     },
     "execution_count": 19,
     "metadata": {},
     "output_type": "execute_result"
    }
   ],
   "source": [
    "ord('Z')"
   ]
  },
  {
   "cell_type": "code",
   "execution_count": 20,
   "id": "c66c9063",
   "metadata": {},
   "outputs": [
    {
     "data": {
      "text/plain": [
       "48"
      ]
     },
     "execution_count": 20,
     "metadata": {},
     "output_type": "execute_result"
    }
   ],
   "source": [
    "ord('0')"
   ]
  },
  {
   "cell_type": "code",
   "execution_count": 21,
   "id": "82cbb98b",
   "metadata": {},
   "outputs": [
    {
     "data": {
      "text/plain": [
       "57"
      ]
     },
     "execution_count": 21,
     "metadata": {},
     "output_type": "execute_result"
    }
   ],
   "source": [
    "ord('9')"
   ]
  },
  {
   "cell_type": "code",
   "execution_count": 22,
   "id": "316b0db2",
   "metadata": {},
   "outputs": [
    {
     "data": {
      "text/plain": [
       "32"
      ]
     },
     "execution_count": 22,
     "metadata": {},
     "output_type": "execute_result"
    }
   ],
   "source": [
    "ord(' ')"
   ]
  },
  {
   "cell_type": "code",
   "execution_count": 23,
   "id": "72d587b1",
   "metadata": {},
   "outputs": [
    {
     "data": {
      "text/plain": [
       "10"
      ]
     },
     "execution_count": 23,
     "metadata": {},
     "output_type": "execute_result"
    }
   ],
   "source": [
    "ord('\\n')"
   ]
  },
  {
   "cell_type": "code",
   "execution_count": 25,
   "id": "7c327971",
   "metadata": {},
   "outputs": [
    {
     "data": {
      "text/plain": [
       "9"
      ]
     },
     "execution_count": 25,
     "metadata": {},
     "output_type": "execute_result"
    }
   ],
   "source": [
    "ord('\\t')"
   ]
  },
  {
   "cell_type": "code",
   "execution_count": 27,
   "id": "07fcdf73",
   "metadata": {},
   "outputs": [
    {
     "data": {
      "text/plain": [
       "'#'"
      ]
     },
     "execution_count": 27,
     "metadata": {},
     "output_type": "execute_result"
    }
   ],
   "source": [
    "chr(35)"
   ]
  },
  {
   "cell_type": "code",
   "execution_count": 28,
   "id": "28196387",
   "metadata": {},
   "outputs": [
    {
     "data": {
      "text/plain": [
       "'C'"
      ]
     },
     "execution_count": 28,
     "metadata": {},
     "output_type": "execute_result"
    }
   ],
   "source": [
    "chr(67)"
   ]
  },
  {
   "cell_type": "code",
   "execution_count": 29,
   "id": "1b7d7652",
   "metadata": {},
   "outputs": [
    {
     "data": {
      "text/plain": [
       "'2'"
      ]
     },
     "execution_count": 29,
     "metadata": {},
     "output_type": "execute_result"
    }
   ],
   "source": [
    "chr(50)"
   ]
  },
  {
   "cell_type": "code",
   "execution_count": 30,
   "id": "f4439032",
   "metadata": {},
   "outputs": [
    {
     "data": {
      "text/plain": [
       "'c'"
      ]
     },
     "execution_count": 30,
     "metadata": {},
     "output_type": "execute_result"
    }
   ],
   "source": [
    "chr(99)"
   ]
  },
  {
   "cell_type": "raw",
   "id": "fa6e5dd0",
   "metadata": {},
   "source": [
    "Q. Find how special chracters work inside print function\n",
    "a. print(\"abc\",\"\\n\",\"bcd\")\n",
    "b. print(\"abc\\nbcd\")\n",
    "c. print(1,'\\n',2)\n",
    "d. print(\"hello \\n\\n!!\")\n",
    "e. print(\"This is '\\t' means tab\")\n",
    "f. How many spaces are printed using \\t?\n",
    "g. print(\"This\",\"is\",\"different\",sep='\\t')\n",
    "h. print(\"This\",\"is\",\"different\",sep='#')\n",
    "i. print(\"This\",\"is\",\"different\",sep='\\n') \n",
    "j. print(\"This\",\"is\",\"different\",end='\\n')"
   ]
  },
  {
   "cell_type": "code",
   "execution_count": 31,
   "id": "efd53a77",
   "metadata": {},
   "outputs": [
    {
     "name": "stdout",
     "output_type": "stream",
     "text": [
      "abc \n",
      " bcd\n"
     ]
    }
   ],
   "source": [
    "print(\"abc\",\"\\n\",\"bcd\")"
   ]
  },
  {
   "cell_type": "code",
   "execution_count": 33,
   "id": "148e3a15",
   "metadata": {},
   "outputs": [
    {
     "name": "stdout",
     "output_type": "stream",
     "text": [
      "abc\n",
      "bcd\n"
     ]
    }
   ],
   "source": [
    "print(\"abc\\nbcd\")"
   ]
  },
  {
   "cell_type": "code",
   "execution_count": 32,
   "id": "27258c4c",
   "metadata": {},
   "outputs": [
    {
     "name": "stdout",
     "output_type": "stream",
     "text": [
      "1 \n",
      " 2\n"
     ]
    }
   ],
   "source": [
    "print(1,'\\n',2)"
   ]
  },
  {
   "cell_type": "code",
   "execution_count": 34,
   "id": "bea7f9f9",
   "metadata": {},
   "outputs": [
    {
     "name": "stdout",
     "output_type": "stream",
     "text": [
      "hello \n",
      "\n",
      "!!\n"
     ]
    }
   ],
   "source": [
    "print(\"hello \\n\\n!!\")"
   ]
  },
  {
   "cell_type": "code",
   "execution_count": 35,
   "id": "74230af8",
   "metadata": {},
   "outputs": [
    {
     "name": "stdout",
     "output_type": "stream",
     "text": [
      "This is '\t' means tab\n"
     ]
    }
   ],
   "source": [
    "print(\"This is '\\t' means tab\")"
   ]
  },
  {
   "cell_type": "code",
   "execution_count": 36,
   "id": "aa442b98",
   "metadata": {},
   "outputs": [
    {
     "name": "stdout",
     "output_type": "stream",
     "text": [
      "This\tis\tdifferent\n"
     ]
    }
   ],
   "source": [
    "print(\"This\",\"is\",\"different\",sep='\\t')"
   ]
  },
  {
   "cell_type": "code",
   "execution_count": 37,
   "id": "ffb6e735",
   "metadata": {},
   "outputs": [
    {
     "name": "stdout",
     "output_type": "stream",
     "text": [
      "This#is#different\n"
     ]
    }
   ],
   "source": [
    "print(\"This\",\"is\",\"different\",sep='#')"
   ]
  },
  {
   "cell_type": "code",
   "execution_count": 38,
   "id": "c4704e65",
   "metadata": {},
   "outputs": [
    {
     "name": "stdout",
     "output_type": "stream",
     "text": [
      "This\n",
      "is\n",
      "different\n"
     ]
    }
   ],
   "source": [
    "print(\"This\",\"is\",\"different\",sep='\\n') "
   ]
  },
  {
   "cell_type": "code",
   "execution_count": 45,
   "id": "3297a90f",
   "metadata": {},
   "outputs": [
    {
     "name": "stdout",
     "output_type": "stream",
     "text": [
      "This is different\n"
     ]
    }
   ],
   "source": [
    "print(\"This\",\"is\",\"different\",end='\\n')"
   ]
  },
  {
   "cell_type": "raw",
   "id": "5a66c273",
   "metadata": {},
   "source": [
    "Q. What is output of following statements and understand how operators work\n",
    "a. 10 / 2\n",
    "b. 10 // 2.0\n",
    "c. 101 / 3\n",
    "d. 101 // 3\n",
    "e. 101 % 3\n",
    "f. 2 ** 4\n",
    "g. 3 ** 2\n",
    "h. abs(-10) # give absolute value\n",
    "i. divmod(101,3) # divmod gives two values , interger division and remainder\n",
    "j. 8 << 1\n",
    "k. 8 << 2\n",
    "l. 32 >> 2\n",
    "m. 16 >> 1"
   ]
  },
  {
   "cell_type": "code",
   "execution_count": 46,
   "id": "ab47334a",
   "metadata": {},
   "outputs": [
    {
     "data": {
      "text/plain": [
       "5.0"
      ]
     },
     "execution_count": 46,
     "metadata": {},
     "output_type": "execute_result"
    }
   ],
   "source": [
    "10 / 2"
   ]
  },
  {
   "cell_type": "code",
   "execution_count": 52,
   "id": "333de642",
   "metadata": {},
   "outputs": [
    {
     "data": {
      "text/plain": [
       "5.0"
      ]
     },
     "execution_count": 52,
     "metadata": {},
     "output_type": "execute_result"
    }
   ],
   "source": [
    "10 // 2.0"
   ]
  },
  {
   "cell_type": "code",
   "execution_count": 53,
   "id": "19311af1",
   "metadata": {},
   "outputs": [
    {
     "data": {
      "text/plain": [
       "33.666666666666664"
      ]
     },
     "execution_count": 53,
     "metadata": {},
     "output_type": "execute_result"
    }
   ],
   "source": [
    "101 / 3"
   ]
  },
  {
   "cell_type": "code",
   "execution_count": 54,
   "id": "8c6c2ef3",
   "metadata": {},
   "outputs": [
    {
     "data": {
      "text/plain": [
       "33"
      ]
     },
     "execution_count": 54,
     "metadata": {},
     "output_type": "execute_result"
    }
   ],
   "source": [
    "101 // 3"
   ]
  },
  {
   "cell_type": "code",
   "execution_count": 55,
   "id": "0cdb603b",
   "metadata": {},
   "outputs": [
    {
     "data": {
      "text/plain": [
       "2"
      ]
     },
     "execution_count": 55,
     "metadata": {},
     "output_type": "execute_result"
    }
   ],
   "source": [
    "101 % 3"
   ]
  },
  {
   "cell_type": "code",
   "execution_count": 56,
   "id": "d0d8c07c",
   "metadata": {},
   "outputs": [
    {
     "data": {
      "text/plain": [
       "16"
      ]
     },
     "execution_count": 56,
     "metadata": {},
     "output_type": "execute_result"
    }
   ],
   "source": [
    "2 ** 4"
   ]
  },
  {
   "cell_type": "code",
   "execution_count": 57,
   "id": "9a6e4ae1",
   "metadata": {},
   "outputs": [
    {
     "data": {
      "text/plain": [
       "9"
      ]
     },
     "execution_count": 57,
     "metadata": {},
     "output_type": "execute_result"
    }
   ],
   "source": [
    "3 ** 2"
   ]
  },
  {
   "cell_type": "code",
   "execution_count": 58,
   "id": "788b0537",
   "metadata": {},
   "outputs": [
    {
     "data": {
      "text/plain": [
       "10"
      ]
     },
     "execution_count": 58,
     "metadata": {},
     "output_type": "execute_result"
    }
   ],
   "source": [
    "abs(-10)"
   ]
  },
  {
   "cell_type": "code",
   "execution_count": 59,
   "id": "0a29a911",
   "metadata": {},
   "outputs": [
    {
     "data": {
      "text/plain": [
       "(33, 2)"
      ]
     },
     "execution_count": 59,
     "metadata": {},
     "output_type": "execute_result"
    }
   ],
   "source": [
    "divmod(101, 3)"
   ]
  },
  {
   "cell_type": "code",
   "execution_count": 60,
   "id": "a31b4c2c",
   "metadata": {},
   "outputs": [
    {
     "data": {
      "text/plain": [
       "16"
      ]
     },
     "execution_count": 60,
     "metadata": {},
     "output_type": "execute_result"
    }
   ],
   "source": [
    "8 << 1"
   ]
  },
  {
   "cell_type": "code",
   "execution_count": 61,
   "id": "75a6c185",
   "metadata": {},
   "outputs": [
    {
     "data": {
      "text/plain": [
       "32"
      ]
     },
     "execution_count": 61,
     "metadata": {},
     "output_type": "execute_result"
    }
   ],
   "source": [
    "8 << 2"
   ]
  },
  {
   "cell_type": "code",
   "execution_count": 62,
   "id": "a43a38a6",
   "metadata": {},
   "outputs": [
    {
     "data": {
      "text/plain": [
       "8"
      ]
     },
     "execution_count": 62,
     "metadata": {},
     "output_type": "execute_result"
    }
   ],
   "source": [
    "32 >> 2"
   ]
  },
  {
   "cell_type": "code",
   "execution_count": 63,
   "id": "ca5e021e",
   "metadata": {},
   "outputs": [
    {
     "data": {
      "text/plain": [
       "8"
      ]
     },
     "execution_count": 63,
     "metadata": {},
     "output_type": "execute_result"
    }
   ],
   "source": [
    "16 >> 1"
   ]
  },
  {
   "cell_type": "raw",
   "id": "a6e77686",
   "metadata": {},
   "source": [
    "Q. Write a program to take marks of 3 subjects from a student. Calculate total in variable name 'total'.\n",
    "(NOTE: Don't use sum as variable name, it is built in function in python)"
   ]
  },
  {
   "cell_type": "code",
   "execution_count": 66,
   "id": "cef312b0",
   "metadata": {},
   "outputs": [
    {
     "name": "stdout",
     "output_type": "stream",
     "text": [
      "Total: 252\n"
     ]
    }
   ],
   "source": [
    "Eng = 97\n",
    "Maths = 83\n",
    "Sci = 72\n",
    "total = Eng + Maths + Sci\n",
    "print(\"Total:\", total)"
   ]
  },
  {
   "cell_type": "raw",
   "id": "9cc5ebfc",
   "metadata": {},
   "source": [
    "Q. verify output using python shell\n",
    "a. 2 + 3 * (4 -1)\n",
    "b. 2 + ((3 *4) - 8)\n",
    "c. (2 + 3) * 4\n",
    "d. -10 + 25 / (16 + 12)\n",
    "e. 2 ** 2 ** 2\n",
    "f. (3 ** 2) ** 3\n",
    "g. x = y = 3 + 5\n",
    "h. 8/2*(2+2)"
   ]
  },
  {
   "cell_type": "code",
   "execution_count": 67,
   "id": "5e5f1470",
   "metadata": {},
   "outputs": [
    {
     "data": {
      "text/plain": [
       "11"
      ]
     },
     "execution_count": 67,
     "metadata": {},
     "output_type": "execute_result"
    }
   ],
   "source": [
    "2 + 3 * (4 -1)"
   ]
  },
  {
   "cell_type": "code",
   "execution_count": 68,
   "id": "2130b167",
   "metadata": {},
   "outputs": [
    {
     "data": {
      "text/plain": [
       "6"
      ]
     },
     "execution_count": 68,
     "metadata": {},
     "output_type": "execute_result"
    }
   ],
   "source": [
    "2 + ((3 *4) - 8)"
   ]
  },
  {
   "cell_type": "code",
   "execution_count": 69,
   "id": "96d813cb",
   "metadata": {},
   "outputs": [
    {
     "data": {
      "text/plain": [
       "20"
      ]
     },
     "execution_count": 69,
     "metadata": {},
     "output_type": "execute_result"
    }
   ],
   "source": [
    "(2 + 3) * 4"
   ]
  },
  {
   "cell_type": "code",
   "execution_count": 70,
   "id": "b592a9ab",
   "metadata": {},
   "outputs": [
    {
     "data": {
      "text/plain": [
       "-9.107142857142858"
      ]
     },
     "execution_count": 70,
     "metadata": {},
     "output_type": "execute_result"
    }
   ],
   "source": [
    "-10 + 25 / (16 + 12)"
   ]
  },
  {
   "cell_type": "code",
   "execution_count": 71,
   "id": "50fb09ad",
   "metadata": {},
   "outputs": [
    {
     "data": {
      "text/plain": [
       "16"
      ]
     },
     "execution_count": 71,
     "metadata": {},
     "output_type": "execute_result"
    }
   ],
   "source": [
    "2 ** 2 ** 2"
   ]
  },
  {
   "cell_type": "code",
   "execution_count": 72,
   "id": "84b50d46",
   "metadata": {},
   "outputs": [
    {
     "data": {
      "text/plain": [
       "729"
      ]
     },
     "execution_count": 72,
     "metadata": {},
     "output_type": "execute_result"
    }
   ],
   "source": [
    "(3 ** 2) ** 3"
   ]
  },
  {
   "cell_type": "code",
   "execution_count": 75,
   "id": "55e5a1f8",
   "metadata": {},
   "outputs": [
    {
     "name": "stdout",
     "output_type": "stream",
     "text": [
      "8 8\n"
     ]
    }
   ],
   "source": [
    "x = y = 3 + 5\n",
    "print(x, y, sep=' ')"
   ]
  },
  {
   "cell_type": "code",
   "execution_count": 76,
   "id": "cb4e88dd",
   "metadata": {},
   "outputs": [
    {
     "data": {
      "text/plain": [
       "16.0"
      ]
     },
     "execution_count": 76,
     "metadata": {},
     "output_type": "execute_result"
    }
   ],
   "source": [
    "8/2*(2+2)"
   ]
  },
  {
   "cell_type": "raw",
   "id": "2c634a3c",
   "metadata": {},
   "source": [
    "Q. Check output of following \n",
    "a. x = y = 10\n",
    "b. x1 = 20 = y1"
   ]
  },
  {
   "cell_type": "code",
   "execution_count": 79,
   "id": "e5627201",
   "metadata": {},
   "outputs": [
    {
     "name": "stdout",
     "output_type": "stream",
     "text": [
      "10 10\n"
     ]
    }
   ],
   "source": [
    "x = y = 10\n",
    "print(x, y, sep=' ')"
   ]
  },
  {
   "cell_type": "code",
   "execution_count": 80,
   "id": "e4dbb195",
   "metadata": {},
   "outputs": [
    {
     "ename": "SyntaxError",
     "evalue": "cannot assign to literal (1868644801.py, line 1)",
     "output_type": "error",
     "traceback": [
      "\u001b[1;36m  Cell \u001b[1;32mIn[80], line 1\u001b[1;36m\u001b[0m\n\u001b[1;33m    x1 = 20 = y1\u001b[0m\n\u001b[1;37m         ^\u001b[0m\n\u001b[1;31mSyntaxError\u001b[0m\u001b[1;31m:\u001b[0m cannot assign to literal\n"
     ]
    }
   ],
   "source": [
    "x1 = 20 = y1"
   ]
  },
  {
   "cell_type": "raw",
   "id": "ed598990",
   "metadata": {},
   "source": [
    "Q. What is output of following\n",
    "a. x=10\n",
    "y=34.4\n",
    "print(x and y)\n",
    "print(x or y)"
   ]
  },
  {
   "cell_type": "code",
   "execution_count": 81,
   "id": "a6fdaf05",
   "metadata": {},
   "outputs": [
    {
     "name": "stdout",
     "output_type": "stream",
     "text": [
      "34.4\n",
      "10\n"
     ]
    }
   ],
   "source": [
    "x=10\n",
    "y=34.4\n",
    "print(x and y)\n",
    "print(x or y)"
   ]
  },
  {
   "cell_type": "raw",
   "id": "c543f57c",
   "metadata": {},
   "source": [
    "1.\tA student will not be allowed to sit in exam if his/her attendence is less than 75%.  \n",
    "Take following input from user Number of classes held Number of classes attended. And print percentage of class attended  \n",
    "Is student is allowed to sit in exam or not. "
   ]
  },
  {
   "cell_type": "code",
   "execution_count": 87,
   "id": "84787401",
   "metadata": {},
   "outputs": [
    {
     "name": "stdout",
     "output_type": "stream",
     "text": [
      "Enter The Number of Classes Held: 85\n",
      "Enter The Number of Classes Attended: 67\n",
      "You Are Allowed To Sit In Exam..!!\n"
     ]
    }
   ],
   "source": [
    "classes_held = int(input(\"Enter The Number of Classes Held: \"))\n",
    "classes_attended = int(input(\"Enter The Number of Classes Attended: \"))\n",
    "\n",
    "attendence = (classes_attended * 100) // classes_held\n",
    "\n",
    "if attendence < 75 :\n",
    "    print(\"You Are Not Allowed To Sit In Exam..!!\")\n",
    "elif 100 >= attendence >=75 :\n",
    "    print(\"You Are Allowed To Sit In Exam..!!\")\n",
    "else : \n",
    "    print(\"Invalid Attendence..!!\")"
   ]
  },
  {
   "cell_type": "raw",
   "id": "0ef15f4e",
   "metadata": {},
   "source": [
    "2. accept amount from user and find the minimum number notes required to get the amount amount =512  \n",
    "Notes: 2000,500,100,50,10,5,2,1  \n",
    "\n",
    "500-1 note  \n",
    "10  - 1 note  \n",
    "2-  1 coin  \n",
    "\n",
    "amount=20550  \n",
    "2000 – 10 note  \n",
    "500 – 1 note  \n",
    "50 -1 note "
   ]
  },
  {
   "cell_type": "code",
   "execution_count": 90,
   "id": "d1149178",
   "metadata": {},
   "outputs": [
    {
     "name": "stdout",
     "output_type": "stream",
     "text": [
      "Enter The Amount: 458621\n",
      "2000 - 229\n",
      "500 - 1\n",
      "100 - 1\n",
      "10 - 2\n",
      "1 - 1\n"
     ]
    }
   ],
   "source": [
    "amount = int(input(\"Enter The Amount: \"))\n",
    "\n",
    "notes_2000 = amount // 2000\n",
    "if notes_2000 > 0:\n",
    "    print(\"2000 -\", notes_2000)\n",
    "rem_amount = amount % 2000\n",
    "\n",
    "notes_500 = rem_amount // 500\n",
    "if notes_500 > 0:\n",
    "    print(\"500 -\", notes_500)\n",
    "rem_amount = amount % 500\n",
    "\n",
    "notes_100 = rem_amount // 100\n",
    "if notes_100 > 0:\n",
    "    print(\"100 -\", notes_100)\n",
    "rem_amount = amount % 100\n",
    "\n",
    "notes_50 = rem_amount // 50\n",
    "if notes_50 > 0:\n",
    "    print(\"50 -\", notes_50)\n",
    "rem_amount = amount % 50\n",
    "\n",
    "notes_10 = rem_amount // 10\n",
    "if notes_10 > 0:\n",
    "    print(\"10 -\", notes_10)\n",
    "rem_amount = amount % 10\n",
    "\n",
    "coin_5 = rem_amount // 5\n",
    "if coin_5 > 0:\n",
    "    print(\"5 -\", coin_5)\n",
    "rem_amount = amount % 5\n",
    "\n",
    "coin_2 = rem_amount // 2\n",
    "if coin_2 > 0:\n",
    "    print(\"2 -\", coin_2)\n",
    "rem_amount = amount % 2\n",
    "\n",
    "coin_1 = rem_amount // 1\n",
    "if coin_1 > 0:\n",
    "    print(\"1 -\", coin_1)\n",
    "rem_amount = amount % 1\n",
    "\n"
   ]
  },
  {
   "cell_type": "raw",
   "id": "0c36a597",
   "metadata": {},
   "source": [
    "3.\tModify the above question Q1 to allow student to sit if he/she has medical cause. Ask user if he/she has medical cause or not ( 'Y' or 'N' ) and print accordingly."
   ]
  },
  {
   "cell_type": "code",
   "execution_count": 92,
   "id": "50943527",
   "metadata": {},
   "outputs": [
    {
     "name": "stdout",
     "output_type": "stream",
     "text": [
      "Enter The Number of Classes Held: 200\n",
      "Enter The Number of Classes Attended: 130\n",
      "Do You Have Madical Cause? Y/NN\n",
      "You Are Not Allowed To Sit In Exam..!!\n"
     ]
    }
   ],
   "source": [
    "classes_held = int(input(\"Enter The Number of Classes Held: \"))\n",
    "classes_attended = int(input(\"Enter The Number of Classes Attended: \"))\n",
    "\n",
    "attendence = (classes_attended * 100) // classes_held\n",
    "\n",
    "if attendence < 75 :\n",
    "    med_cer = input(\"Do You Have Madical Cause? Y/N\")\n",
    "    if med_cer == 'Y' :\n",
    "        print(\"You Are Allowed To Sit In Exam..!!\")\n",
    "    else :\n",
    "        print(\"You Are Not Allowed To Sit In Exam..!!\")\n",
    "elif 100 >= attendence >=75 :\n",
    "    print(\"You Are Allowed To Sit In Exam..!!\")\n",
    "else : \n",
    "    print(\"Invalid Attendence..!!\")"
   ]
  },
  {
   "cell_type": "raw",
   "id": "4ce4d723",
   "metadata": {},
   "source": [
    "4.\tA school has following rules for grading system:  \n",
    "a.\tBelow 25 - F  \n",
    "b.\t25 to 45 - E  \n",
    "c.\t45 to 50 - D  \n",
    "d.\t50 to 60 - C  \n",
    "e.\t60 to 80 - B  \n",
    "f.\tAbove 80 - A  \n",
    "Ask user to enter marks and print the corresponding grade."
   ]
  },
  {
   "cell_type": "code",
   "execution_count": 100,
   "id": "94c2082a",
   "metadata": {},
   "outputs": [
    {
     "name": "stdout",
     "output_type": "stream",
     "text": [
      "Enter Your Marks: 55\n",
      "Grade : C\n"
     ]
    }
   ],
   "source": [
    "marks = int(input(\"Enter Your Marks: \"))\n",
    "\n",
    "if marks < 25 :\n",
    "    print(\"Grade : F\")\n",
    "elif 25 <= marks < 45 :\n",
    "    print(\"Grade : E\")\n",
    "elif 45 <= marks < 50 :\n",
    "    print(\"Grade : D\")\n",
    "elif 50 <= marks < 60 :\n",
    "    print(\"Grade : C\")    \n",
    "elif 60 <= marks < 80 :\n",
    "    print(\"Grade : B\")\n",
    "elif 80 <= marks :\n",
    "    print(\"Grade : A\")"
   ]
  },
  {
   "cell_type": "raw",
   "id": "32cb3721",
   "metadata": {},
   "source": [
    "5.\t  If  x = 2 y = 5 z = 0  then find values of the following expressions and Print the output of following statements  \n",
    "a.\tx == 2  \n",
    "b.\tx != 5  \n",
    "c.\tx != 5 & y >= 5  \n",
    "d.\tz != 0 | x == 2  \n",
    "e.\tnot(y < 10)"
   ]
  },
  {
   "cell_type": "code",
   "execution_count": 101,
   "id": "3a795404",
   "metadata": {},
   "outputs": [],
   "source": [
    "x = 2\n",
    "y = 5\n",
    "z = 0"
   ]
  },
  {
   "cell_type": "code",
   "execution_count": 102,
   "id": "75197861",
   "metadata": {},
   "outputs": [
    {
     "data": {
      "text/plain": [
       "True"
      ]
     },
     "execution_count": 102,
     "metadata": {},
     "output_type": "execute_result"
    }
   ],
   "source": [
    "x == 2"
   ]
  },
  {
   "cell_type": "code",
   "execution_count": 103,
   "id": "7f9c7678",
   "metadata": {},
   "outputs": [
    {
     "data": {
      "text/plain": [
       "True"
      ]
     },
     "execution_count": 103,
     "metadata": {},
     "output_type": "execute_result"
    }
   ],
   "source": [
    "x != 5"
   ]
  },
  {
   "cell_type": "code",
   "execution_count": 104,
   "id": "638b9720",
   "metadata": {},
   "outputs": [
    {
     "data": {
      "text/plain": [
       "True"
      ]
     },
     "execution_count": 104,
     "metadata": {},
     "output_type": "execute_result"
    }
   ],
   "source": [
    "x != 5 & y >= 5"
   ]
  },
  {
   "cell_type": "code",
   "execution_count": 105,
   "id": "b0749308",
   "metadata": {},
   "outputs": [
    {
     "data": {
      "text/plain": [
       "True"
      ]
     },
     "execution_count": 105,
     "metadata": {},
     "output_type": "execute_result"
    }
   ],
   "source": [
    "z != 0 | x == 2 "
   ]
  },
  {
   "cell_type": "code",
   "execution_count": 106,
   "id": "6461814b",
   "metadata": {},
   "outputs": [
    {
     "data": {
      "text/plain": [
       "False"
      ]
     },
     "execution_count": 106,
     "metadata": {},
     "output_type": "execute_result"
    }
   ],
   "source": [
    "not(y < 10)"
   ]
  },
  {
   "cell_type": "raw",
   "id": "a488ddde",
   "metadata": {},
   "source": [
    "6.\tAccept number from user and check whether it is divisible by 5 and 11 if divisible then display appropriate message."
   ]
  },
  {
   "cell_type": "code",
   "execution_count": 112,
   "id": "52d00b44",
   "metadata": {},
   "outputs": [
    {
     "name": "stdout",
     "output_type": "stream",
     "text": [
      "Enter A Number: 55\n",
      "The Number is Divisible by 5 and 11 !!\n"
     ]
    }
   ],
   "source": [
    "num = int(input(\"Enter A Number: \"))\n",
    "\n",
    "if (num % 5 == 0) and (num % 11 == 0) :\n",
    "    print(\"The Number is Divisible by 5 and 11 !!\")\n",
    "else :\n",
    "    print(\"The Number is Not Divisible by 5 and 11 !!\")"
   ]
  },
  {
   "cell_type": "raw",
   "id": "1dd84e97",
   "metadata": {},
   "source": [
    "7.\tWrite a program to calculate the electricity bill (accept number of unit from user) according to the following criteria :  \n",
    "             Unit                                    Price    \n",
    "First 100 units                                       no charge  \n",
    "Next 100 units                                        Rs 5 per unit  \n",
    "After 200 units                                       Rs 10 per unit  \n",
    "(For example if input unit is 350 than total bill amount is Rs2000)"
   ]
  },
  {
   "cell_type": "code",
   "execution_count": 1,
   "id": "9625c8a8",
   "metadata": {},
   "outputs": [
    {
     "name": "stdout",
     "output_type": "stream",
     "text": [
      "Enter The Number of Units: 250\n",
      "Your Charge is 1000\n"
     ]
    }
   ],
   "source": [
    "unit = int(input(\"Enter The Number of Units: \"))\n",
    "\n",
    "if unit <= 100 :\n",
    "    print(\"No Charge\")\n",
    "elif 100 < unit <= 200 :\n",
    "    charge = (unit - 100) * 5\n",
    "    print(\"Your Charge is\",charge)\n",
    "elif 200 < unit :\n",
    "    charge = (unit - 200) * 10 + 100 * 5 + 0\n",
    "    print(\"Your Charge is\",charge)"
   ]
  },
  {
   "cell_type": "raw",
   "id": "e7784cd2",
   "metadata": {},
   "source": [
    "8.\tWrite a program to check whether the last digit of a number( entered by user ) is divisible by 3 or not."
   ]
  },
  {
   "cell_type": "code",
   "execution_count": 3,
   "id": "cd759411",
   "metadata": {},
   "outputs": [
    {
     "name": "stdout",
     "output_type": "stream",
     "text": [
      "Enter A Number: 526\n",
      "The Last Digit of Number is Divisible by 3\n"
     ]
    }
   ],
   "source": [
    "number = int(input(\"Enter A Number: \"))\n",
    "num = number % 10\n",
    "if num % 3 == 0:\n",
    "    print(\"The Last Digit of Number is Divisible by 3\")\n",
    "else :\n",
    "    print(\"The Last Digit of Number is not Divisible by 3\")"
   ]
  },
  {
   "cell_type": "raw",
   "id": "b35c5173",
   "metadata": {},
   "source": [
    "9.\tWrite a program to check whether an years is leap year or not the year is leap if it satisfies following condition  \n",
    "•\tIt the year is divisible by 100 o If it is divisible by 100, then it should also be divisible by 400 then it is leap year  \n",
    "•\totherwise, all other years divisible by 4 and not divisible by 100 then it is leap year."
   ]
  },
  {
   "cell_type": "code",
   "execution_count": 4,
   "id": "b8039636",
   "metadata": {},
   "outputs": [
    {
     "name": "stdout",
     "output_type": "stream",
     "text": [
      "Enter The Year: 2016\n",
      "The Year is Leap Year..!!\n"
     ]
    }
   ],
   "source": [
    "year = int(input(\"Enter The Year: \"))\n",
    "\n",
    "if (year % 100 == 0) and (year % 400 == 0) :\n",
    "    print(\"The Year is Leap Year..!!\")\n",
    "elif (year % 4 == 0) and (year % 100 != 0) :\n",
    "    print(\"The Year is Leap Year..!!\")\n",
    "else :\n",
    "    print(\"The Year is Not Leap Year..!!\")"
   ]
  },
  {
   "cell_type": "raw",
   "id": "7c20d58a",
   "metadata": {},
   "source": [
    "10. Write a program to accept the price of a bike and display the road tax and insurance to be paid according to the following criteria . also display total amount to be paid.  \n",
    "      \n",
    "        Cost price (in Rs)           Tax                Inssurance  \n",
    "        > 100000                     15 %                   20%  \n",
    "        > 50000 and <= 100000        10%                    8%  \n",
    "        <= 50000                     5%                     5%  "
   ]
  },
  {
   "cell_type": "code",
   "execution_count": 5,
   "id": "02e70e1f",
   "metadata": {},
   "outputs": [
    {
     "name": "stdout",
     "output_type": "stream",
     "text": [
      "Enter The Price of Your Bike: 500000\n",
      "Your Tax For Bike:  75000.0\n",
      "Your Insurance For Bike:  100000.0\n",
      "Your Total Amount To Be Paid:  175000.0\n"
     ]
    }
   ],
   "source": [
    "price = int(input(\"Enter The Price of Your Bike: \"))\n",
    "if price > 100000 :\n",
    "    tax = price * 0.15\n",
    "    insurance = price * 0.20\n",
    "    total = tax + insurance\n",
    "    print(\"Your Tax For Bike: \",tax)\n",
    "    print(\"Your Insurance For Bike: \",insurance)\n",
    "    print(\"Your Total Amount To Be Paid: \",total)\n",
    "elif 100000 <= price > 50000 :\n",
    "    tax = price * 0.10\n",
    "    insurance = price * 0.08\n",
    "    total = tax + insurance\n",
    "    print(\"Your Tax For Bike: \",tax)\n",
    "    print(\"Your Insurance For Bike: \",insurance)\n",
    "    print(\"Your Total Amount To Be Paid: \",total)\n",
    "elif price <= 50000 :\n",
    "    tax = price * 0.05\n",
    "    insurance = price * 0.05\n",
    "    total = tax + insurance\n",
    "    print(\"Your Tax For Bike: \",tax)\n",
    "    print(\"Your Insurance For Bike: \",insurance)\n",
    "    print(\"Your Total Amount To Be Paid: \",total)"
   ]
  },
  {
   "cell_type": "raw",
   "id": "0ad3a18e",
   "metadata": {},
   "source": [
    "1.\tAccept 10 integers from user  and print their average value on the screen"
   ]
  },
  {
   "cell_type": "code",
   "execution_count": 7,
   "id": "60ae9808",
   "metadata": {},
   "outputs": [
    {
     "name": "stdout",
     "output_type": "stream",
     "text": [
      "Enter The Value: 1\n",
      "Enter The Value: 2\n",
      "Enter The Value: 3\n",
      "Enter The Value: 4\n",
      "Enter The Value: 5\n",
      "Enter The Value: 6\n",
      "Enter The Value: 7\n",
      "Enter The Value: 8\n",
      "Enter The Value: 9\n",
      "Enter The Value: 10\n",
      "Average: 5.5\n"
     ]
    }
   ],
   "source": [
    "total = 0\n",
    "\n",
    "for i in range(1,11) :\n",
    "    num = int(input(\"Enter The Value: \"))\n",
    "    total += num\n",
    "\n",
    "average = total / 10\n",
    "print(\"Average:\", average)"
   ]
  },
  {
   "cell_type": "raw",
   "id": "db6c323d",
   "metadata": {},
   "source": [
    "2.\tPrint the following patterns using loop : \n",
    "\n",
    "* \n",
    "** \n",
    "***\n",
    "****"
   ]
  },
  {
   "cell_type": "code",
   "execution_count": 35,
   "id": "2f979e08",
   "metadata": {},
   "outputs": [
    {
     "name": "stdout",
     "output_type": "stream",
     "text": [
      "Enter The Value: 4\n",
      "*\n",
      "**\n",
      "***\n",
      "****\n"
     ]
    }
   ],
   "source": [
    "num = int(input(\"Enter The Value: \"))\n",
    "\n",
    "for i in range(0,num) :\n",
    "    for j in range(0,i+1) :\n",
    "        print('*',end='')\n",
    "    print('\\r')"
   ]
  },
  {
   "cell_type": "raw",
   "id": "348887eb",
   "metadata": {},
   "source": [
    "1010101          \n",
    " 10101  \n",
    "  101   \n",
    "   1    "
   ]
  },
  {
   "cell_type": "code",
   "execution_count": 1,
   "id": "13faeb16",
   "metadata": {},
   "outputs": [
    {
     "name": "stdout",
     "output_type": "stream",
     "text": [
      "Enter The Value: 5\n",
      "101010101\n",
      " 1010101\n",
      "  10101\n",
      "   101\n",
      "    1\n"
     ]
    }
   ],
   "source": [
    "n = int(input(\"Enter The Value: \"))\n",
    "space = 0\n",
    "for i in range(n-1, -1, -1) :\n",
    "    print(' ' * space, '10' * i, '1', sep = '')\n",
    "    space += 1"
   ]
  },
  {
   "cell_type": "raw",
   "id": "c46a2332",
   "metadata": {},
   "source": [
    "1  \n",
    "1 2  \n",
    "1 2 3  \n",
    "1 2 3 4  \n",
    "1 2 3 4 5"
   ]
  },
  {
   "cell_type": "code",
   "execution_count": 4,
   "id": "42e79353",
   "metadata": {},
   "outputs": [
    {
     "name": "stdout",
     "output_type": "stream",
     "text": [
      "Enter The Value: 5\n",
      "1 \n",
      "1 2 \n",
      "1 2 3 \n",
      "1 2 3 4 \n",
      "1 2 3 4 5 \n"
     ]
    }
   ],
   "source": [
    "num = int(input(\"Enter The Value: \"))\n",
    "for i in range(1, num+1) :\n",
    "    for j in range(1, i+1) :\n",
    "        print(j,end = \" \")\n",
    "    print(\"\\r\")"
   ]
  },
  {
   "cell_type": "raw",
   "id": "93358702",
   "metadata": {},
   "source": [
    "3. Take integer inputs from user until he/she presses q ( Ask to press q to quit after every integer input ). Print average and product of all numbers"
   ]
  },
  {
   "cell_type": "code",
   "execution_count": 22,
   "id": "8f38b15c",
   "metadata": {},
   "outputs": [
    {
     "name": "stdout",
     "output_type": "stream",
     "text": [
      "Enter A Number: 5\n",
      "Enter 'q' To Quit The Program..!!\n",
      "Enter A Number: 6\n",
      "Enter 'q' To Quit The Program..!!\n",
      "Enter A Number: 8\n",
      "Enter 'q' To Quit The Program..!!\n",
      "Enter A Number: 9\n",
      "Enter 'q' To Quit The Program..!!\n",
      "Enter A Number: 6\n",
      "Enter 'q' To Quit The Program..!!\n",
      "Enter A Number: 7\n",
      "Enter 'q' To Quit The Program..!!\n",
      "Enter A Number: 1\n",
      "Enter 'q' To Quit The Program..!!\n",
      "Enter A Number: q\n",
      "Average: 6.0\n",
      "Product: 90720\n"
     ]
    }
   ],
   "source": [
    "addition = 0\n",
    "count = 0\n",
    "product = 1\n",
    "\n",
    "while (num := input(\"Enter A Number: \")) != 'q' :\n",
    "    print(\"Enter 'q' To Quit The Program..!!\")\n",
    "    count += 1\n",
    "    addition += int(num)\n",
    "    average = addition / count\n",
    "    product *= int(num)\n",
    "    \n",
    "print(\"Average:\", average)\n",
    "print(\"Product:\", product)\n",
    "    "
   ]
  },
  {
   "cell_type": "raw",
   "id": "d8107408",
   "metadata": {},
   "source": [
    "4. Given a number count the total number of digits in a number and also find sum of digits of the number"
   ]
  },
  {
   "cell_type": "code",
   "execution_count": 32,
   "id": "c03d6dec",
   "metadata": {},
   "outputs": [
    {
     "name": "stdout",
     "output_type": "stream",
     "text": [
      "Enter A Number: 789654123\n",
      "Count of Digits is  9\n",
      "Sum of Digits is  45\n"
     ]
    }
   ],
   "source": [
    "num = int(input(\"Enter A Number: \"))\n",
    "add = 0\n",
    "count = 0\n",
    "\n",
    "while num != 0 :\n",
    "    count += 1\n",
    "    digit = num % 10\n",
    "    add += digit\n",
    "    num = num // 10 \n",
    "\n",
    "print(\"Count of Digits is \", count)\n",
    "print(\"Sum of Digits is \", add)"
   ]
  },
  {
   "cell_type": "raw",
   "id": "4cb397f4",
   "metadata": {},
   "source": [
    "5. To display the cube of the number upto given an integer. If the given integer is 5, then display cube of 1 to 4"
   ]
  },
  {
   "cell_type": "code",
   "execution_count": 34,
   "id": "504393d8",
   "metadata": {},
   "outputs": [
    {
     "name": "stdout",
     "output_type": "stream",
     "text": [
      "Enter A Number: 5\n",
      "Cube of 1 is 1\n",
      "Cube of 2 is 8\n",
      "Cube of 3 is 27\n",
      "Cube of 4 is 64\n"
     ]
    }
   ],
   "source": [
    "num = int(input(\"Enter A Number: \"))\n",
    "\n",
    "for i in range(1,num) :\n",
    "    print(\"Cube of\",i,\"is\",i*i*i)"
   ]
  },
  {
   "cell_type": "raw",
   "id": "a7d4b9b5",
   "metadata": {},
   "source": [
    "6. Accept 20 numbers from user and display sum of only even numbers"
   ]
  },
  {
   "cell_type": "code",
   "execution_count": 39,
   "id": "155b9c8c",
   "metadata": {},
   "outputs": [
    {
     "name": "stdout",
     "output_type": "stream",
     "text": [
      "Enter A Number: 1\n",
      "Enter A Number: 2\n",
      "Enter A Number: 3\n",
      "Enter A Number: 4\n",
      "Enter A Number: 5\n",
      "Enter A Number: 6\n",
      "Enter A Number: 7\n",
      "Enter A Number: 8\n",
      "Enter A Number: 9\n",
      "Enter A Number: 10\n",
      "Enter A Number: 1\n",
      "Enter A Number: 2\n",
      "Enter A Number: 3\n",
      "Enter A Number: 4\n",
      "Enter A Number: 5\n",
      "Enter A Number: 6\n",
      "Enter A Number: 7\n",
      "Enter A Number: 8\n",
      "Enter A Number: 9\n",
      "Enter A Number: 10\n",
      "Sum of Even Numbers is 60\n"
     ]
    }
   ],
   "source": [
    "add = 0\n",
    "\n",
    "for i in range(1,21) :\n",
    "    num = int(input(\"Enter A Number: \"))\n",
    "    if num % 2 == 0 :\n",
    "        add += num\n",
    "    \n",
    "print(\"Sum of Even Numbers is\",add)"
   ]
  },
  {
   "cell_type": "raw",
   "id": "ff4d30ed",
   "metadata": {},
   "source": [
    "7. Ask user number of terms to be generated of a series. \n",
    "generate numbers for the following series and find its addition \n",
    "[9 + 99 + 999 + 9999+……..]"
   ]
  },
  {
   "cell_type": "code",
   "execution_count": 43,
   "id": "ec69b24b",
   "metadata": {},
   "outputs": [
    {
     "name": "stdout",
     "output_type": "stream",
     "text": [
      "Enter A Number of To Be Generated of a Series: 6\n",
      "9\n",
      "99\n",
      "999\n",
      "9999\n",
      "99999\n",
      "999999\n",
      "1111104\n"
     ]
    }
   ],
   "source": [
    "num = int(input(\"Enter A Number of To Be Generated of a Series: \"))\n",
    "add = 0\n",
    "for i in range(1,num+1) :\n",
    "    print('9' * i)\n",
    "    add = add + int('9' * i)\n",
    "print (add)"
   ]
  },
  {
   "cell_type": "raw",
   "id": "44cee35c",
   "metadata": {},
   "source": [
    "8. Write a program in python to display the sum of the series [ 1+x+x^2/2!+x^3/3!+....]. Go to the editor \n",
    "Test Data : \n",
    "Input the value of x :3 Input number of terms : 5 Expected Output : \n",
    "The sum is : 16.375000"
   ]
  },
  {
   "cell_type": "code",
   "execution_count": 44,
   "id": "1803648b",
   "metadata": {},
   "outputs": [
    {
     "name": "stdout",
     "output_type": "stream",
     "text": [
      "Enter a number:3\n",
      "Enter the number of terms:5\n",
      "1.0\n",
      "3.0\n",
      "4.5\n",
      "4.5\n",
      "3.375\n",
      "16.375\n"
     ]
    }
   ],
   "source": [
    "import math\n",
    "add = 0\n",
    "num = int(input(\"Enter a number:\"))\n",
    "term = int(input(\"Enter the number of terms:\"))\n",
    "\n",
    "for i in range (0,term) :\n",
    "    term1 = num ** i / math.factorial(i)\n",
    "    print (term1)\n",
    "    add = add + term1\n",
    "print(add)"
   ]
  },
  {
   "cell_type": "raw",
   "id": "ee81d2a0",
   "metadata": {},
   "source": [
    "10. Take a number from user and check if it is prime or not"
   ]
  },
  {
   "cell_type": "code",
   "execution_count": 60,
   "id": "f8840775",
   "metadata": {},
   "outputs": [
    {
     "name": "stdout",
     "output_type": "stream",
     "text": [
      "Enter A Number: 47\n",
      "Prime\n"
     ]
    }
   ],
   "source": [
    "num = int(input(\"Enter A Number: \"))\n",
    "for i in range(2,num):\n",
    "    if num % i ==0:\n",
    "        print(\"Not prime\")\n",
    "        break\n",
    "else:\n",
    "    print(\"Prime\")"
   ]
  },
  {
   "cell_type": "raw",
   "id": "3560d754",
   "metadata": {},
   "source": [
    "11. Take a number from user and print sum of all odd numbers till that number.\n",
    "Ex. Enter a no : 10   \n",
    "Sum of all odd numbers till 10 : 3+5+7+9  =25"
   ]
  },
  {
   "cell_type": "code",
   "execution_count": 63,
   "id": "68d6a7a3",
   "metadata": {},
   "outputs": [
    {
     "name": "stdout",
     "output_type": "stream",
     "text": [
      "Enter A Number: 10\n",
      "Sum of All Odd Numbers:  25\n"
     ]
    }
   ],
   "source": [
    "num = int(input(\"Enter A Number: \"))\n",
    "sum1 = 0\n",
    "for i in range(1,num+1,2) :\n",
    "    sum1 = sum1 + i\n",
    "print(\"Sum of All Odd Numbers: \",sum1)"
   ]
  }
 ],
 "metadata": {
  "kernelspec": {
   "display_name": "Python 3 (ipykernel)",
   "language": "python",
   "name": "python3"
  },
  "language_info": {
   "codemirror_mode": {
    "name": "ipython",
    "version": 3
   },
   "file_extension": ".py",
   "mimetype": "text/x-python",
   "name": "python",
   "nbconvert_exporter": "python",
   "pygments_lexer": "ipython3",
   "version": "3.11.4"
  }
 },
 "nbformat": 4,
 "nbformat_minor": 5
}
